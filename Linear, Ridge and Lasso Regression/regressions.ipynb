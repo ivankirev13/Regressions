{
 "cells": [
  {
   "cell_type": "code",
   "execution_count": 1,
   "metadata": {},
   "outputs": [],
   "source": [
    "# import modules\n",
    "import numpy as np\n",
    "import pandas as pd\n",
    "import matplotlib.pyplot as plt\n",
    "from collections import defaultdict"
   ]
  },
  {
   "cell_type": "code",
   "execution_count": 3,
   "metadata": {},
   "outputs": [],
   "source": [
    "# read in the data\n",
    "chemistry_samples = pd.read_csv('chemistry_samples.csv')\n",
    "chemistry_test = pd.read_csv('chemistry_test.csv')"
   ]
  },
  {
   "cell_type": "markdown",
   "metadata": {},
   "source": [
    "# Linear Regression\n",
    "\n",
    "We import the data and set the column LC50 as the response variable $y$ and the rest of the columns are our predictor variables. We also standardise our data. While standardisation will not have effect on the optimal coefficients of the linear regression (except for the intercept coefficient which will now be close to zero), it will have effect on the ridge and lasso regressions.\n",
    "\n",
    "Note that we standardise the test data using the mean and standard deviation from the samples datasets, since the sample datasets are larger and the mean and std should be more accurate (this may not be the case if the test data is taken from different regions, but we assume that it is a random sample from the whole data)."
   ]
  },
  {
   "cell_type": "code",
   "execution_count": 4,
   "metadata": {},
   "outputs": [],
   "source": [
    "# Samples data\n",
    "y_chemistry_samples = chemistry_samples['LC50']  # response variable \n",
    "# standardize\n",
    "y_chemistry_samples_std = (y_chemistry_samples - np.mean(y_chemistry_samples, 0)) / np.std(y_chemistry_samples, 0)\n",
    "x_chemistry_samples = chemistry_samples.loc[:,chemistry_samples.columns != 'LC50']  # predictor variables\n",
    "# standardize\n",
    "x_chemistry_samples_std = (x_chemistry_samples - np.mean(x_chemistry_samples, 0)) / np.std(x_chemistry_samples, 0)\n",
    "# add ones as the first column corresponding to beta_0\n",
    "X_chemistry_samples_std = np.hstack([np.ones((x_chemistry_samples_std.shape[0],1)), x_chemistry_samples_std])\n",
    "\n",
    "# Test data\n",
    "y_chemistry_test = chemistry_test['LC50']  # true outcomes for the test data\n",
    "# standardize using mean and std from sample data\n",
    "y_chemistry_test_std = (y_chemistry_test - np.mean(y_chemistry_samples, 0)) / np.std(y_chemistry_samples, 0)\n",
    "x_chemistry_test = chemistry_test.loc[:,chemistry_test.columns != 'LC50']  # features from testing data\n",
    "# standardize using mean and std from sample data\n",
    "x_chemistry_test_std = (x_chemistry_test - np.mean(x_chemistry_samples, 0)) / np.std(x_chemistry_samples, 0)\n",
    "# add ones as the first column corresponding to beta_0\n",
    "X_chemistry_test_std = np.hstack([np.ones((x_chemistry_test_std.shape[0],1)), x_chemistry_test_std])"
   ]
  },
  {
   "cell_type": "markdown",
   "metadata": {},
   "source": [
    "We will fit the data according to the linear model\n",
    "\\begin{equation}\n",
    "y = \\beta_0 + \\beta_1  x_1 + \\cdots + \\beta_{10}  x_{10} +  \\varepsilon,\n",
    "\\end{equation}\n",
    "where $ y$ is the toxicity factor LC50, $x_i$ are the ten features and $\\varepsilon$ are the errors. From the lectures we know that we have\n",
    "\\begin{equation}\n",
    "\\hat{ \\beta} = (X^TX)^{-1}X^T y.\n",
    "\\end{equation}"
   ]
  },
  {
   "cell_type": "code",
   "execution_count": 5,
   "metadata": {},
   "outputs": [],
   "source": [
    "def linear_regression(X, y):\n",
    "    \"\"\"\n",
    "    Input:\n",
    "    X: matrix of predictor variables\n",
    "    y: vector of outcomes\n",
    "    Output:\n",
    "    Returns vector with the coefficients fitted from the linear model.\n",
    "    \"\"\"\n",
    "\n",
    "    betas = np.linalg.solve(X.T @ X, X.T @ y)\n",
    "    return betas"
   ]
  },
  {
   "cell_type": "markdown",
   "metadata": {},
   "source": [
    "We now fit our model and print the optimal coefficients for our data."
   ]
  },
  {
   "cell_type": "code",
   "execution_count": 6,
   "metadata": {},
   "outputs": [
    {
     "name": "stdout",
     "output_type": "stream",
     "text": [
      "Model coefficients:  [ 7.45303276e-16  2.90108245e-02  4.45606153e-01 -1.25021223e-02\n",
      "  2.09811164e-01  3.63698550e-03  4.68524940e-01 -2.18878786e-01\n",
      " -2.10439111e-01 -6.62731202e-02 -6.87146683e-04]\n"
     ]
    }
   ],
   "source": [
    "# Compute and print betas\n",
    "betas_linear = linear_regression(X_chemistry_samples_std, y_chemistry_samples_std)\n",
    "print(\"Model coefficients: \", betas_linear)"
   ]
  },
  {
   "cell_type": "markdown",
   "metadata": {},
   "source": [
    "Now we create a function that computes the $R^2$ coefficient. It is calculated as such:\n",
    "\\begin{equation}\n",
    "R^2 = 1 - \\frac{RSS}{\\sum_{i=1}^n (Y - \\overline{Y})^2},\n",
    "\\end{equation}\n",
    "where $RSS = \\sum_{i=1}^n (Y - \\hat{Y})^2$, ($\\hat{Y}$ are the predicted outcomes), $n$ is the number of obsevations."
   ]
  },
  {
   "cell_type": "code",
   "execution_count": 7,
   "metadata": {},
   "outputs": [],
   "source": [
    "def r_squared(X, y_true, betas):\n",
    "    \"\"\"\n",
    "    Input:\n",
    "    y: vector of true outcomes\n",
    "    X: matrix of observations\n",
    "    betas: coefficients\n",
    "    Output:\n",
    "    Returns the R squared for the given inputs.\n",
    "    \"\"\"\n",
    "\n",
    "    # Calculate predicted outcomes\n",
    "    y_prediction = X @ betas\n",
    "\n",
    "    # Compute RSS and TSS\n",
    "    RSS = np.dot(y_true - y_prediction, y_true - y_prediction)\n",
    "    TSS = np.dot(y_true - np.mean(y_true), y_true - np.mean(y_true))\n",
    "\n",
    "    # Return the R squared\n",
    "    return 1 - RSS/TSS"
   ]
  },
  {
   "cell_type": "markdown",
   "metadata": {},
   "source": [
    "We now calculate the $R^2$ on our sample data."
   ]
  },
  {
   "cell_type": "code",
   "execution_count": 8,
   "metadata": {},
   "outputs": [
    {
     "name": "stdout",
     "output_type": "stream",
     "text": [
      "In-sample R^2 = 0.8718259975718016\n"
     ]
    }
   ],
   "source": [
    "# Calculate the R squared for the sample data\n",
    "in_sample_R_squared_linear = r_squared(X_chemistry_samples_std, y_chemistry_samples_std, betas_linear)\n",
    "print(\"In-sample R^2 =\", in_sample_R_squared_linear)"
   ]
  },
  {
   "cell_type": "markdown",
   "metadata": {},
   "source": [
    "We can see that the adjusted $R^2$ is very high (close to $1$). This can be interpreted as approximately $87\\%$ of the total variance of the data is explained by the model."
   ]
  },
  {
   "cell_type": "markdown",
   "metadata": {},
   "source": [
    "Now that we have obtain the $\\beta$ coefficients from our model, we can predict the target variable for the test data and calculate the out of sample $R^2$. Note that the prediction for the target variable is computed inside the r_squared function."
   ]
  },
  {
   "cell_type": "code",
   "execution_count": 9,
   "metadata": {},
   "outputs": [
    {
     "name": "stdout",
     "output_type": "stream",
     "text": [
      "Out-of-sample R^2 = 0.8642933369927281\n"
     ]
    }
   ],
   "source": [
    "# Compute the out of sample R^2\n",
    "out_sample_R_squared_linear = r_squared(X_chemistry_test_std, y_chemistry_test_std, betas_linear)\n",
    "print(\"Out-of-sample R^2 =\", out_sample_R_squared_linear)"
   ]
  },
  {
   "cell_type": "markdown",
   "metadata": {},
   "source": [
    "We can see that the out-of-sample $R^2$ is a bit smaller than the in-sample one which is understandable since the betas were calculated for the sample data. Nevertheless, both $R^2$ are very close to each other which means that approximately the same amount of variance of the data is explained by the model. We note that while the $R^2$ coefficient on its own is not a guarantee for a good fit of the model, we observe that there is almost no change in the $R^2$ between the sample and test data which indicates that the model is well generalized and did not overfit.\n",
    "\n",
    "We also compute the MSE of our predictions. We will use this to compare the different regressions."
   ]
  },
  {
   "cell_type": "code",
   "execution_count": 10,
   "metadata": {},
   "outputs": [
    {
     "name": "stdout",
     "output_type": "stream",
     "text": [
      "The MSE of our linear regression estimates is:  0.12876794450042037\n"
     ]
    }
   ],
   "source": [
    "# Compute predictions\n",
    "y_prediction_linear = X_chemistry_test_std @ betas_linear\n",
    "\n",
    "# Compute the MSE\n",
    "linear_mse = np.mean((y_prediction_linear - y_chemistry_test_std)**2)\n",
    "print(\"The MSE of our linear regression estimates is: \", linear_mse)"
   ]
  },
  {
   "cell_type": "markdown",
   "metadata": {},
   "source": [
    "## Ridge Regression\n",
    "\n",
    "Here we work with the chemistry samples data. We divide the data into $5$ parts and perform $5$ iterations in each of which one of the parts is the validations set and the rest is the training set. We perform a ridge regression (with parameter lambd) on the training set and obtain the solution:\n",
    "\\begin{equation}\n",
    "\\hat{\\beta}_{ridge} = (X^TX + \\lambda I)^{-1}X^Ty,\n",
    "\\end{equation}\n",
    "where $X$ and $y$ are from the training set. Now we predict the $y_{val}$ of the validation set as follows:\n",
    "\\begin{equation}\n",
    "\\hat{y}_{val} = X_{val} \\hat{\\beta}_{ridge},\n",
    "\\end{equation}\n",
    "where $X_{val}$ are the preidctors of the validation set. Now that we have our predicted $y^*_{val}$ and the true $y_{val}$, we can calculate the MSE for each of the 5 iterations as \n",
    "\\begin{equation}\n",
    "MSE_i = \\frac{1}{n_i}\\sum_{j=1}^{n_i}(Y_j - \\hat{Y}_j)^2 = \\frac{1}{n_i}(Y_{val} - \\hat{Y}_{val} )^T(Y_{val}-\\hat{Y} _{val}),\n",
    "\\end{equation}\n",
    "where $n_i$ is the number of elements in the validation set at iteration $i$, $Y_{val}$ is the vector with true values from the validation set and $Y^*_{val}$ is its prediction from above. After computing each of the MSE, we take their average. Now we have obtained a function that evaluates our regression for a given $\\lambda$. We then plug in different values for $\\lambda$ to find the optimal one."
   ]
  },
  {
   "cell_type": "code",
   "execution_count": 11,
   "metadata": {},
   "outputs": [],
   "source": [
    "def ridge_regression(X, y, lambd):\n",
    "    \"\"\"\n",
    "    Input:\n",
    "    X: matrix of predictor variables\n",
    "    y: vector of response variables\n",
    "    lambd: parameter of the Ridge regression\n",
    "    Output:\n",
    "    Returns the coefficients beta which minimise the loss function for the ridge regression.\n",
    "    \"\"\"\n",
    "    \n",
    "    # Remove intercept from regularisation term\n",
    "    I = np.identity(X.shape[1])\n",
    "    I[0,0] = 0\n",
    "\n",
    "    # Compute the betas for the ridge regression\n",
    "    beta_ridge = np.linalg.solve(X.T @ X + lambd * I, X.T @ y)\n",
    "    return beta_ridge"
   ]
  },
  {
   "cell_type": "code",
   "execution_count": 12,
   "metadata": {},
   "outputs": [],
   "source": [
    "def cross_validation_ridge(X, y, lambd, folds):\n",
    "    \"\"\"\n",
    "    Input:\n",
    "    X: matrix of predictor variables\n",
    "    y: vector of response variables\n",
    "    lambd: parameter of the Ridge regression\n",
    "    T: number of folds\n",
    "    Outcome:\n",
    "    Return the average MSE over the T validation sets.\n",
    "    \"\"\"\n",
    "    \n",
    "    # Initialize a list with MSEs\n",
    "    MSEs = []\n",
    "\n",
    "    for i in range(len(folds)):\n",
    "\n",
    "        # Set training and validation indices\n",
    "        validation_indices = folds[i]\n",
    "        training_indices = list(set(range(y.shape[0])) - set(validation_indices))\n",
    "\n",
    "        # Separate into training and validation datasets\n",
    "        X_train_i = X[training_indices, :]\n",
    "        y_train_i = y[training_indices]\n",
    "        X_val_i = X[validation_indices, :]\n",
    "        y_val_i = y[validation_indices]\n",
    "\n",
    "        # Compute the betas for a ridge regression\n",
    "        beta = ridge_regression(X_train_i, y_train_i, lambd)\n",
    "        \n",
    "        # Compute predictions for y\n",
    "        y_prediction_i = X_val_i @ beta\n",
    "        \n",
    "        # Compute the MSE\n",
    "        MSE_i = np.mean((y_val_i - y_prediction_i)**2)\n",
    "        MSEs.append(MSE_i)\n",
    "    \n",
    "    # Return the average MSE\n",
    "    return np.mean(MSEs)"
   ]
  },
  {
   "cell_type": "markdown",
   "metadata": {},
   "source": [
    "Now we create a function that loops over a range of values for the $\\lambda$ parameter of the ridge regression and returns the optimal $\\lambda$."
   ]
  },
  {
   "cell_type": "code",
   "execution_count": 13,
   "metadata": {},
   "outputs": [],
   "source": [
    "def choose_best_lambd_ridge(X, y, lambd_range, folds):\n",
    "    \"\"\"\n",
    "    Input:\n",
    "    X: matrix of predictor variables\n",
    "    y: vector of response variables\n",
    "    lambda_range: array with lambda values\n",
    "    Output:\n",
    "    Returns the lambda for which the CV MSE is lowest and the value of that MSE.\n",
    "    \"\"\"\n",
    "    \n",
    "    # Create a list containing the MSE for each value of lambd\n",
    "    lambda_MSEs = np.zeros((len(lambd_range),))\n",
    "    for i, lambd in enumerate(lambd_range):\n",
    "        lambda_MSEs[i] = (cross_validation_ridge(X, y, lambd, folds))\n",
    "\n",
    "    # Find the minimal MSE and its index\n",
    "    min_mse = np.min(lambda_MSEs)   \n",
    "    min_mse_index = np.argmin(lambda_MSEs)\n",
    "\n",
    "    # Return the minimal MSE and the lambd corresponding to the min MSE\n",
    "    return min_mse, lambd_range[min_mse_index]"
   ]
  },
  {
   "cell_type": "markdown",
   "metadata": {},
   "source": [
    "Now we find the optimal $\\lambda$ for our data and print it together with the MSE for that $\\lambda$. We first create a plot showing the MSE for different values of $\\lambda$. We can see that the curve is convex and we want the optimal $\\lambda$ which minimises it."
   ]
  },
  {
   "cell_type": "code",
   "execution_count": 14,
   "metadata": {},
   "outputs": [
    {
     "data": {
      "image/png": "[encoded data removed]",
      "text/plain": [
       "<Figure size 1800x504 with 1 Axes>"
      ]
     },
     "metadata": {
      "needs_background": "light"
     },
     "output_type": "display_data"
    }
   ],
   "source": [
    "# Create folds\n",
    "folds = np.array_split(np.arange(np.shape(X_chemistry_samples_std)[0]), 5)\n",
    "\n",
    "# Set a range for lambda\n",
    "lambd_range= np.linspace(0, 8, 100)\n",
    "\n",
    "# Compute MSEs for these lambdas\n",
    "mse_list = [cross_validation_ridge(X_chemistry_samples_std,\n",
    "                                   y_chemistry_samples_std,\n",
    "                                   lambd, folds) for lambd in lambd_range]\n",
    "\n",
    "# Plot\n",
    "plt.figure(figsize=(25,7))\n",
    "plt.plot(lambd_range, mse_list)\n",
    "plt.xlabel(\"Lambda\", size=20)\n",
    "plt.ylabel(\"MSE\", size=20)\n",
    "plt.title(\"Cross Validation MSE for different $\\lambda$\", size=20)\n",
    "plt.show()"
   ]
  },
  {
   "cell_type": "markdown",
   "metadata": {},
   "source": [
    "We now search for the optimal value of $\\lambda$ and print it together with its corresponding MSE."
   ]
  },
  {
   "cell_type": "code",
   "execution_count": 15,
   "metadata": {},
   "outputs": [
    {
     "name": "stdout",
     "output_type": "stream",
     "text": [
      "Optimal lambda =  4.040404040404041\n",
      "Minimal MSE =  0.12915843996258583\n"
     ]
    }
   ],
   "source": [
    "# Compute optimal lambda and the MSE corresponding to it\n",
    "min_MSE_ridge, optimal_lambda_ridge = choose_best_lambd_ridge(X_chemistry_samples_std,\n",
    "                                                              y_chemistry_samples_std,\n",
    "                                                              lambd_range=lambd_range,\n",
    "                                                              folds=folds)\n",
    "# Print results\n",
    "print(\"Optimal lambda = \", optimal_lambda_ridge)\n",
    "print(\"Minimal MSE = \", min_MSE_ridge)"
   ]
  },
  {
   "cell_type": "markdown",
   "metadata": {},
   "source": [
    "We now discuss the trend of bias, variance and MSE as a function of the hyper-parameter. In general, there is a relationship betweeen the three as follows:\n",
    "\\begin{equation}\n",
    "MSE = Variance + Bias^2\n",
    "\\end{equation}\n",
    "For large lambda, as well as for lambda approaching zero, we have high MSE, as can be seen from the plot above. We achieve a minimum of the MSE for our optimal lambda. \n",
    "\n",
    "As lambda goes to zero, the bias vanishes (if lambda $=0$ then we are in the case of the unbiased linear regression). As we increase the hyperparameter the bias^2 increases and the bias tends towards $-\\beta$ which means the estimates are around $0$. \n",
    "\n",
    "The variance on the other hand is large for lambda approachng zero and it decreases as we increase the hyper-parameter. As lambda goes to infinity, the variance vanishesh at the expense of the bias.\n",
    "\n",
    "The sweet spot is in the middle, where the MSE is minimised, so we have obtained our optimal_lambda to be the value of the hyper-parameter minimising the MSE."
   ]
  },
  {
   "cell_type": "markdown",
   "metadata": {},
   "source": [
    "We now fix the parameter to be the optimal_lambda found above and retrain the model on the entire samples dataset. We compute the in-sample $R^2$ and then compare it to the out-of-sample $R^2$ on the test data."
   ]
  },
  {
   "cell_type": "code",
   "execution_count": 16,
   "metadata": {},
   "outputs": [
    {
     "name": "stdout",
     "output_type": "stream",
     "text": [
      "In-sample R^2 = 0.8718241394919062\n",
      "Out-of-sample R^2 = 0.8643004103491979\n"
     ]
    }
   ],
   "source": [
    "# Compute the betas for the ridge regression on entire sample dataset\n",
    "betas_ridge = ridge_regression(X_chemistry_samples_std,\n",
    "                               y_chemistry_samples_std,\n",
    "                               optimal_lambda_ridge)\n",
    "\n",
    "# Compute the two R^2\n",
    "in_sample_R_squared_ridge = r_squared(X_chemistry_samples_std,\n",
    "                                      y_chemistry_samples_std,\n",
    "                                      betas_ridge)\n",
    "out_sample_R_squared_ridge = r_squared(X_chemistry_test_std,\n",
    "                                       y_chemistry_test_std,\n",
    "                                       betas_ridge)\n",
    "\n",
    "# Print results\n",
    "print(\"In-sample R^2 =\", in_sample_R_squared_ridge)\n",
    "print(\"Out-of-sample R^2 =\", out_sample_R_squared_ridge)"
   ]
  },
  {
   "cell_type": "code",
   "execution_count": 17,
   "metadata": {},
   "outputs": [
    {
     "name": "stdout",
     "output_type": "stream",
     "text": [
      "In-sample R^2 difference 1.8580798953893307e-06\n",
      "Out-of-sample R^2 difference -7.073356469766701e-06\n"
     ]
    }
   ],
   "source": [
    "# Compare with the in-sample and out-of-sample R^2 from the linear regression\n",
    "print(\"In-sample R^2 difference\", in_sample_R_squared_linear - in_sample_R_squared_ridge)\n",
    "print(\"Out-of-sample R^2 difference\", out_sample_R_squared_linear - out_sample_R_squared_ridge)"
   ]
  },
  {
   "cell_type": "markdown",
   "metadata": {},
   "source": [
    "We can see that the in-sample $R^2$ is slighly higher for the linear regression but the difference is very close to $0$ indicating that the two models perform similarly on the sample data. On the test data however, the out-of-sample $R^2$ of the ridge regression is bigger, indicating that the ridge regression model generalized better while the linear regression one seems to slightly overfit. \n",
    "\n",
    "We now compute the MSE on the test sets as before with the linear regression."
   ]
  },
  {
   "cell_type": "code",
   "execution_count": 18,
   "metadata": {},
   "outputs": [
    {
     "name": "stdout",
     "output_type": "stream",
     "text": [
      "The MSE of our ridge regression estimates is:   0.12876123280658636\n",
      "The MSE of our linear regression estimates is:  0.12876794450042037\n",
      "Difference between the linear and ridge MSEs : 6.711693834010601e-06\n"
     ]
    }
   ],
   "source": [
    "# Compute predictions\n",
    "y_prediction_ridge = X_chemistry_test_std @ betas_ridge\n",
    "\n",
    "# Compute the MSE\n",
    "ridge_mse = np.mean((y_prediction_ridge - y_chemistry_test_std)**2)\n",
    "print(\"The MSE of our ridge regression estimates is:  \", ridge_mse)\n",
    "print(\"The MSE of our linear regression estimates is: \", linear_mse)\n",
    "print(\"Difference between the linear and ridge MSEs :\", linear_mse - ridge_mse)"
   ]
  },
  {
   "cell_type": "markdown",
   "metadata": {},
   "source": [
    "## Relaxation of Lasso Regression\n",
    "\n",
    "We first create functions that recreates the Huber function for a given $\\beta$ and then its gradient with respect to $\\beta$. They are given by:\n",
    "\\begin{equation}\n",
    "L_c(\\beta) = \n",
    "\\begin{cases}\n",
    "\\frac12 \\beta^2, & |\\beta| \\le c,\\\\\n",
    "c(|\\beta| - \\frac12 c), & otherwise.\n",
    "\\end{cases}\n",
    "\\end{equation}\n",
    "\n",
    "\\begin{equation}\n",
    "\\nabla_{\\beta}L_c(\\beta) = \n",
    "\\begin{cases}\n",
    "\\beta, & |\\beta| \\le c,\\\\\n",
    "c \\cdot sign(\\beta), & otherwise.\n",
    "\\end{cases}\n",
    "\\end{equation}"
   ]
  },
  {
   "cell_type": "markdown",
   "metadata": {},
   "source": [
    "We print the two MSEs and see that the MSE of the ridge regression is slightly lower (although it is a very small difference). This indicates once again that the regularization term in the ridge regression results in a small improvement of the model compared to the simple linear regression model."
   ]
  },
  {
   "cell_type": "code",
   "execution_count": 21,
   "metadata": {},
   "outputs": [],
   "source": [
    "def huber(beta, c=0.001):\n",
    "    \"\"\"\n",
    "    Input:\n",
    "    beta: variable of the Huber function.\n",
    "    c: parameter of the Huber function.\n",
    "    Output:\n",
    "    Returns the value of the Huber function given beta.\n",
    "    \"\"\"\n",
    "    \n",
    "    if abs(beta) <= c:\n",
    "        return 0.5 * beta**2\n",
    "    else:\n",
    "        return c*(abs(beta) - 0.5 * c)\n",
    "\n",
    "def grad_huber(beta, c=0.001):\n",
    "    \"\"\" \n",
    "    beta: variable of the Huber function.\n",
    "    c: parameter of the Huber function.\n",
    "    Output:\n",
    "    Returns the value of the gradient the Huber function at a given beta.\n",
    "    \"\"\"\n",
    "    \n",
    "    if abs(beta) <= c:\n",
    "        return beta\n",
    "    else:\n",
    "        return c * np.sign(beta)"
   ]
  },
  {
   "cell_type": "markdown",
   "metadata": {},
   "source": [
    "Now we have the following cost function, which we want to minimise:\n",
    "\\begin{equation}\n",
    "L_{LASSO}(\\beta) = || y - X \\beta|| ^2 + \\lambda \\sum_{i=1}^p L_c(\\beta_i)\n",
    "\\end{equation}\n",
    "It's gradient is given by \n",
    "\\begin{equation}\n",
    "-2(X^Ty - X^TX \\beta) + \\lambda \\nabla_{\\beta} \\sum_{i=1}^p L_c(\\beta_i),\n",
    "\\end{equation}\n",
    "where the gradient of the sum is equal to a vector with the ith row having value grad_huber($\\beta_i$). We minimise the total gradient with the idea that its minimal value is $0$ which gives us the minimal value of the cost function. We use the gradient descent method to find the minimum and return the betas which minimise the cost function."
   ]
  },
  {
   "cell_type": "code",
   "execution_count": 22,
   "metadata": {},
   "outputs": [],
   "source": [
    "def minimize_ls_huber(X, y, lambd, n_iters=10000, step_size=0.02):\n",
    "    \"\"\"\n",
    "    Input:\n",
    "    X: predictor data\n",
    "    y: response data\n",
    "    lambd: regularization parameter\n",
    "    Output:\n",
    "    Returns the betas minimising the loss function above from the modified lasso regression.\n",
    "    \"\"\"\n",
    "\n",
    "    n, p = X.shape\n",
    "    XX = X.T @ X / n\n",
    "    Xy = X.T @ y / n\n",
    "    \n",
    "    # Initialise betas\n",
    "    betas = np.zeros(p)\n",
    "\n",
    "    # Gradient descent\n",
    "    for _ in range(n_iters):\n",
    "\n",
    "        # Compute gradient for given betas\n",
    "        I = np.identity(p)\n",
    "        I[0,0] = 0\n",
    "        grad = -2 * (Xy - XX @ betas) + lambd * I @ (np.array([grad_huber(beta_i) for beta_i in betas]))\n",
    "        \n",
    "        # Update betas\n",
    "        betas = betas - step_size * grad\n",
    "    \n",
    "    # Return final betas\n",
    "    return betas"
   ]
  },
  {
   "cell_type": "markdown",
   "metadata": {},
   "source": [
    "Now we will test our function for $\\lambda = 0$. The resulting betas should be the same or very similar to the ones from the linear regression, since when $\\lambda = 0$ we essentially minimise the same cost function as in the linear regression (but here we use gradient descent method)."
   ]
  },
  {
   "cell_type": "code",
   "execution_count": 23,
   "metadata": {},
   "outputs": [
    {
     "name": "stdout",
     "output_type": "stream",
     "text": [
      "Coefficients from lasso with lambda=0: \n",
      " [ 7.45303277e-16  2.90108252e-02  4.45606153e-01 -1.25021223e-02\n",
      "  2.09811164e-01  3.63698549e-03  4.68524940e-01 -2.18878786e-01\n",
      " -2.10439110e-01 -6.62731202e-02 -6.87146708e-04]\n",
      "Coefficients from linear regression: \n",
      " [ 7.45303276e-16  2.90108245e-02  4.45606153e-01 -1.25021223e-02\n",
      "  2.09811164e-01  3.63698550e-03  4.68524940e-01 -2.18878786e-01\n",
      " -2.10439111e-01 -6.62731202e-02 -6.87146683e-04]\n"
     ]
    }
   ],
   "source": [
    "# Compute betas from lasso regression with lambda=0\n",
    "betas_lasso_zero_lambda = minimize_ls_huber(X_chemistry_samples_std, y_chemistry_samples_std, lambd=0)\n",
    "\n",
    "# Compare with betas from linear regression\n",
    "print(\"Coefficients from lasso with lambda=0: \\n\", betas_lasso_zero_lambda)\n",
    "print(\"Coefficients from linear regression: \\n\", betas_linear)"
   ]
  },
  {
   "cell_type": "markdown",
   "metadata": {},
   "source": [
    "We perform a 5-fold cross validation to tune the hyper-parameter."
   ]
  },
  {
   "cell_type": "code",
   "execution_count": 24,
   "metadata": {},
   "outputs": [],
   "source": [
    "def cross_validation_lasso(X, y, lambd, folds):\n",
    "    \"\"\"\n",
    "    Input:\n",
    "    X: matrix of training inputs\n",
    "    y: response vector\n",
    "    lambda: penalty hyper-parameter\n",
    "    folds: list of index arrays that correspond to the folds\n",
    "    Output:\n",
    "    The average MSE for a given lambda.\n",
    "    \"\"\"\n",
    "\n",
    "    # Initialize list with MSEs\n",
    "    MSEs = []\n",
    "\n",
    "    for i in range(len(folds)):\n",
    "\n",
    "        # Set validation and training indices\n",
    "        validation_indexes = folds[i]\n",
    "        training_indexes = list(set(range(y.shape[0])) - set(validation_indexes))\n",
    "\n",
    "        # Set training and validation dataset\n",
    "        X_train_i = X[training_indexes, :]\n",
    "        y_train_i = y[training_indexes]\n",
    "        X_val_i = X[validation_indexes, :]\n",
    "        y_val_i = y[validation_indexes]\n",
    "\n",
    "        # Compute betas from training sets\n",
    "        betas = minimize_ls_huber(X_train_i, y_train_i, lambd)\n",
    "        \n",
    "        # Compute prediction on the validation set\n",
    "        y_prediction_i = X_val_i @ betas\n",
    "        \n",
    "        # Compute the MSE of that prediction\n",
    "        MSE_i = np.mean((y_val_i - y_prediction_i)**2)\n",
    "        MSEs.append(MSE_i)\n",
    "    \n",
    "    # Return the mean MSE\n",
    "    return np.mean(MSEs)"
   ]
  },
  {
   "cell_type": "code",
   "execution_count": 25,
   "metadata": {},
   "outputs": [],
   "source": [
    "def choose_best_lambd_lasso(X, y, lambd_range, folds):\n",
    "    \"\"\"\n",
    "    Input:\n",
    "    X: matrix of predictor variables\n",
    "    y: vector of response variables\n",
    "    lambda_range: array with lambda values\n",
    "    Output:\n",
    "    Returns the lambda for which the cross-validation MSE is lowest and the value of that MSE.\n",
    "    \"\"\"\n",
    "    \n",
    "    # a list containing the MSE for each value of lambd\n",
    "    lambda_MSEs = []\n",
    "    for lamd in lambd_range:\n",
    "        lambda_MSEs.append(cross_validation_lasso(X, y, lamd, folds))\n",
    "\n",
    "    # the minimal MSE  \n",
    "    min_mse = np.min(lambda_MSEs)  \n",
    "\n",
    "    # takes the index of the minimal MSE\n",
    "    min_mse_index = np.argmin(lambda_MSEs)\n",
    "\n",
    "    # return the minimal MSE and the lambd corresponding to the min MSE\n",
    "    return min_mse, lambd_range[min_mse_index]"
   ]
  },
  {
   "cell_type": "code",
   "execution_count": 26,
   "metadata": {},
   "outputs": [
    {
     "data": {
      "image/png": "[encoded data removed]",
      "text/plain": [
       "<Figure size 1800x504 with 1 Axes>"
      ]
     },
     "metadata": {
      "needs_background": "light"
     },
     "output_type": "display_data"
    }
   ],
   "source": [
    "# Create folds\n",
    "folds = np.array_split(np.arange(np.shape(X_chemistry_samples_std)[0]), 5)\n",
    "\n",
    "# Set a range for lambda\n",
    "lambd_range= np.linspace(0, 10, 100)\n",
    "\n",
    "# Compute MSEs for these lambdas\n",
    "mse_list = [cross_validation_lasso(X_chemistry_samples_std,\n",
    "                                   y_chemistry_samples_std,\n",
    "                                   lambd, folds) for lambd in lambd_range]\n",
    "\n",
    "# Plot\n",
    "plt.figure(figsize=(25,7))\n",
    "plt.plot(lambd_range, mse_list)\n",
    "plt.xlabel(\"Lambda\", size=20)\n",
    "plt.ylabel(\"MSE\", size=20)\n",
    "plt.title(\"Cross Validation MSE for different $\\lambda$\", size=20)\n",
    "plt.show()"
   ]
  },
  {
   "cell_type": "markdown",
   "metadata": {},
   "source": [
    "Now we find the optimal value of the hyper-parameter using our choose_best_lambd_lasso function. For a more precise value, increase the number of points in lambd_range."
   ]
  },
  {
   "cell_type": "code",
   "execution_count": 27,
   "metadata": {},
   "outputs": [
    {
     "name": "stdout",
     "output_type": "stream",
     "text": [
      "Minimal MSE from lasso regression=  0.12912221107858646\n",
      "Optimal lambda for lasso regression =  2.121212121212121\n"
     ]
    }
   ],
   "source": [
    "# Compute the optimal lambda and the minimal MSE\n",
    "min_MSE_lasso, optimal_lambda_lasso = choose_best_lambd_lasso(X_chemistry_samples_std,\n",
    "                                                              y_chemistry_samples_std,\n",
    "                                                              lambd_range=lambd_range,\n",
    "                                                              folds=folds)\n",
    "print(\"Minimal MSE from lasso regression= \", min_MSE_lasso)\n",
    "print(\"Optimal lambda for lasso regression = \", optimal_lambda_lasso)"
   ]
  },
  {
   "cell_type": "markdown",
   "metadata": {},
   "source": [
    "We now fix the optimal value of the hyper-parameter and retrain the model on the entire samples dataset. We compute the in-sample $R^2$ and then compare it to the out-of-sample $R^2$ on the test data."
   ]
  },
  {
   "cell_type": "code",
   "execution_count": 28,
   "metadata": {},
   "outputs": [
    {
     "name": "stdout",
     "output_type": "stream",
     "text": [
      "In-sample R^2 = 0.8718254802729744\n",
      "Out-of-sample R^2 = 0.864297555323533\n"
     ]
    }
   ],
   "source": [
    "# Compute the betas for the ridge regression on entire sample dataset\n",
    "betas_lasso = ridge_regression(X_chemistry_samples_std,\n",
    "                               y_chemistry_samples_std,\n",
    "                               optimal_lambda_lasso)\n",
    "\n",
    "# Compute the two R^2\n",
    "in_sample_R_squared_lasso = r_squared(X_chemistry_samples_std,\n",
    "                                      y_chemistry_samples_std,\n",
    "                                      betas_lasso)\n",
    "                                      \n",
    "out_sample_R_squared_lasso = r_squared(X_chemistry_test_std,\n",
    "                                       y_chemistry_test_std,\n",
    "                                       betas_lasso)\n",
    "\n",
    "# Print results\n",
    "print(\"In-sample R^2 =\", in_sample_R_squared_lasso)\n",
    "print(\"Out-of-sample R^2 =\", out_sample_R_squared_lasso)"
   ]
  },
  {
   "cell_type": "code",
   "execution_count": 29,
   "metadata": {},
   "outputs": [
    {
     "name": "stdout",
     "output_type": "stream",
     "text": [
      "The MSE of our lasso regression estimates is:   0.12876394185401427\n"
     ]
    }
   ],
   "source": [
    "# Compute predictions\n",
    "y_prediction_lasso = X_chemistry_test_std @ betas_lasso\n",
    "\n",
    "# Compute the MSE\n",
    "lasso_mse = np.mean((y_prediction_lasso - y_chemistry_test_std)**2)\n",
    "print(\"The MSE of our lasso regression estimates is:  \", lasso_mse)"
   ]
  },
  {
   "cell_type": "markdown",
   "metadata": {},
   "source": [
    "Now we compare the three regressions according to the following factors: Coefficients, In-sample and Out-of-sample $R^2$ and MSE of the predictions on the chemistry_test data.\n",
    "\n",
    "First we print the beta coefficients for each of the three models."
   ]
  },
  {
   "cell_type": "code",
   "execution_count": 30,
   "metadata": {},
   "outputs": [
    {
     "data": {
      "text/html": [
       "<div>\n",
       "<style scoped>\n",
       "    .dataframe tbody tr th:only-of-type {\n",
       "        vertical-align: middle;\n",
       "    }\n",
       "\n",
       "    .dataframe tbody tr th {\n",
       "        vertical-align: top;\n",
       "    }\n",
       "\n",
       "    .dataframe thead th {\n",
       "        text-align: right;\n",
       "    }\n",
       "</style>\n",
       "<table border=\"1\" class=\"dataframe\">\n",
       "  <thead>\n",
       "    <tr style=\"text-align: right;\">\n",
       "      <th></th>\n",
       "      <th>Linear regression</th>\n",
       "      <th>Ridge regression</th>\n",
       "      <th>Lasso regression</th>\n",
       "    </tr>\n",
       "  </thead>\n",
       "  <tbody>\n",
       "    <tr>\n",
       "      <th>0</th>\n",
       "      <td>7.453033e-16</td>\n",
       "      <td>7.462681e-16</td>\n",
       "      <td>7.458146e-16</td>\n",
       "    </tr>\n",
       "    <tr>\n",
       "      <th>1</th>\n",
       "      <td>2.901082e-02</td>\n",
       "      <td>3.090492e-02</td>\n",
       "      <td>3.001459e-02</td>\n",
       "    </tr>\n",
       "    <tr>\n",
       "      <th>2</th>\n",
       "      <td>4.456062e-01</td>\n",
       "      <td>4.434206e-01</td>\n",
       "      <td>4.444538e-01</td>\n",
       "    </tr>\n",
       "    <tr>\n",
       "      <th>3</th>\n",
       "      <td>-1.250212e-02</td>\n",
       "      <td>-1.398545e-02</td>\n",
       "      <td>-1.328523e-02</td>\n",
       "    </tr>\n",
       "    <tr>\n",
       "      <th>4</th>\n",
       "      <td>2.098112e-01</td>\n",
       "      <td>2.094865e-01</td>\n",
       "      <td>2.096403e-01</td>\n",
       "    </tr>\n",
       "    <tr>\n",
       "      <th>5</th>\n",
       "      <td>3.636985e-03</td>\n",
       "      <td>4.193321e-03</td>\n",
       "      <td>3.930515e-03</td>\n",
       "    </tr>\n",
       "    <tr>\n",
       "      <th>6</th>\n",
       "      <td>4.685249e-01</td>\n",
       "      <td>4.679405e-01</td>\n",
       "      <td>4.682176e-01</td>\n",
       "    </tr>\n",
       "    <tr>\n",
       "      <th>7</th>\n",
       "      <td>-2.188788e-01</td>\n",
       "      <td>-2.176614e-01</td>\n",
       "      <td>-2.182357e-01</td>\n",
       "    </tr>\n",
       "    <tr>\n",
       "      <th>8</th>\n",
       "      <td>-2.104391e-01</td>\n",
       "      <td>-2.086474e-01</td>\n",
       "      <td>-2.094892e-01</td>\n",
       "    </tr>\n",
       "    <tr>\n",
       "      <th>9</th>\n",
       "      <td>-6.627312e-02</td>\n",
       "      <td>-6.588858e-02</td>\n",
       "      <td>-6.607007e-02</td>\n",
       "    </tr>\n",
       "    <tr>\n",
       "      <th>10</th>\n",
       "      <td>-6.871467e-04</td>\n",
       "      <td>1.310328e-03</td>\n",
       "      <td>3.663999e-04</td>\n",
       "    </tr>\n",
       "  </tbody>\n",
       "</table>\n",
       "</div>"
      ],
      "text/plain": [
       "    Linear regression  Ridge regression  Lasso regression\n",
       "0        7.453033e-16      7.462681e-16      7.458146e-16\n",
       "1        2.901082e-02      3.090492e-02      3.001459e-02\n",
       "2        4.456062e-01      4.434206e-01      4.444538e-01\n",
       "3       -1.250212e-02     -1.398545e-02     -1.328523e-02\n",
       "4        2.098112e-01      2.094865e-01      2.096403e-01\n",
       "5        3.636985e-03      4.193321e-03      3.930515e-03\n",
       "6        4.685249e-01      4.679405e-01      4.682176e-01\n",
       "7       -2.188788e-01     -2.176614e-01     -2.182357e-01\n",
       "8       -2.104391e-01     -2.086474e-01     -2.094892e-01\n",
       "9       -6.627312e-02     -6.588858e-02     -6.607007e-02\n",
       "10      -6.871467e-04      1.310328e-03      3.663999e-04"
      ]
     },
     "execution_count": 30,
     "metadata": {},
     "output_type": "execute_result"
    }
   ],
   "source": [
    "coefficients = {\"Linear regression\": [beta for beta in betas_linear],\n",
    "                \"Ridge regression\": [beta for beta in betas_ridge],\n",
    "                \"Lasso regression\": [beta for beta in betas_lasso]}\n",
    "pd.DataFrame(coefficients)"
   ]
  },
  {
   "cell_type": "markdown",
   "metadata": {},
   "source": [
    "Next we compare the MSEs and $R^2$ s for the three regressions."
   ]
  },
  {
   "cell_type": "code",
   "execution_count": 31,
   "metadata": {},
   "outputs": [
    {
     "data": {
      "text/html": [
       "<div>\n",
       "<style scoped>\n",
       "    .dataframe tbody tr th:only-of-type {\n",
       "        vertical-align: middle;\n",
       "    }\n",
       "\n",
       "    .dataframe tbody tr th {\n",
       "        vertical-align: top;\n",
       "    }\n",
       "\n",
       "    .dataframe thead th {\n",
       "        text-align: right;\n",
       "    }\n",
       "</style>\n",
       "<table border=\"1\" class=\"dataframe\">\n",
       "  <thead>\n",
       "    <tr style=\"text-align: right;\">\n",
       "      <th></th>\n",
       "      <th>Regression</th>\n",
       "      <th>MSE</th>\n",
       "      <th>In-sample R^2</th>\n",
       "      <th>Out-of-sample R^2</th>\n",
       "    </tr>\n",
       "  </thead>\n",
       "  <tbody>\n",
       "    <tr>\n",
       "      <th>0</th>\n",
       "      <td>Linear</td>\n",
       "      <td>0.128768</td>\n",
       "      <td>0.871826</td>\n",
       "      <td>0.864293</td>\n",
       "    </tr>\n",
       "    <tr>\n",
       "      <th>1</th>\n",
       "      <td>Ridge</td>\n",
       "      <td>0.128761</td>\n",
       "      <td>0.871824</td>\n",
       "      <td>0.864300</td>\n",
       "    </tr>\n",
       "    <tr>\n",
       "      <th>2</th>\n",
       "      <td>Lasso</td>\n",
       "      <td>0.128764</td>\n",
       "      <td>0.871825</td>\n",
       "      <td>0.864298</td>\n",
       "    </tr>\n",
       "  </tbody>\n",
       "</table>\n",
       "</div>"
      ],
      "text/plain": [
       "  Regression       MSE  In-sample R^2  Out-of-sample R^2\n",
       "0     Linear  0.128768       0.871826           0.864293\n",
       "1      Ridge  0.128761       0.871824           0.864300\n",
       "2      Lasso  0.128764       0.871825           0.864298"
      ]
     },
     "execution_count": 31,
     "metadata": {},
     "output_type": "execute_result"
    }
   ],
   "source": [
    "table = {\"Regression\": [\"Linear\", \"Ridge\", \"Lasso\"],\n",
    "         \"MSE\": [linear_mse, ridge_mse, lasso_mse],\n",
    "         \"In-sample R^2\": [in_sample_R_squared_linear, in_sample_R_squared_ridge, in_sample_R_squared_lasso],\n",
    "         \"Out-of-sample R^2\": [out_sample_R_squared_linear, out_sample_R_squared_ridge, out_sample_R_squared_lasso]}\n",
    "pd.DataFrame(table)"
   ]
  },
  {
   "cell_type": "markdown",
   "metadata": {},
   "source": [
    "Overall, the three models are performing very similarly. We will now discuss the differences.\n",
    "\n",
    "In terms of the MSE, the Ridge regression has the best outcome, followed by the Lasso regression and finally the Linear regression has the lowest (although very close to the other two) MSE.\n",
    "\n",
    "While the in-sample $R^2$ is the largest for the Linear regression, it has the lowest out-of-sample $R^2$ which indicates that there is a slight overfitting there. Conversely, the Ridge regression has the lowest in-sample $R^2$ and the largest out-of-sample $R^2$ indicating that the model generalized the best. The Lasso regression has very close parameters to the Ridge, although it performes slightly worse.\n",
    "\n",
    "In conclusion, the Ridge regression seems to perform the best out of the three models in terms of both MSE and out-of-sample $R^2$."
   ]
  }
 ],
 "metadata": {
  "kernelspec": {
   "display_name": "Python 3.10.6 64-bit (microsoft store)",
   "language": "python",
   "name": "python3"
  },
  "language_info": {
   "codemirror_mode": {
    "name": "ipython",
    "version": 3
   },
   "file_extension": ".py",
   "mimetype": "text/x-python",
   "name": "python",
   "nbconvert_exporter": "python",
   "pygments_lexer": "ipython3",
   "version": "3.10.6"
  },
  "orig_nbformat": 4,
  "vscode": {
   "interpreter": {
    "hash": "58dbfdb34cf82127b32c5737e6183911655ff227e5c11e8f5e4b25048ae98ef2"
   }
  }
 },
 "nbformat": 4,
 "nbformat_minor": 2
}
